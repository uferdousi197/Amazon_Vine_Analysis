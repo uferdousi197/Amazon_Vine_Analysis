{
 "cells": [
  {
   "cell_type": "code",
   "execution_count": 2,
   "metadata": {
    "colab": {
     "base_uri": "https://localhost:8080/"
    },
    "id": "Zl7gCRQPNi3N",
    "outputId": "ca7d69d4-de89-40bf-e692-3e0b4f885de4"
   },
   "outputs": [
    {
     "name": "stdout",
     "output_type": "stream",
     "text": [
      "Ign:1 https://developer.download.nvidia.com/compute/cuda/repos/ubuntu1804/x86_64  InRelease\n",
      "Get:2 http://security.ubuntu.com/ubuntu bionic-security InRelease [88.7 kB]\n",
      "Ign:3 https://developer.download.nvidia.com/compute/machine-learning/repos/ubuntu1804/x86_64  InRelease\n",
      "Get:4 https://developer.download.nvidia.com/compute/cuda/repos/ubuntu1804/x86_64  Release [697 B]\n",
      "Hit:5 https://developer.download.nvidia.com/compute/machine-learning/repos/ubuntu1804/x86_64  Release\n",
      "Get:6 https://developer.download.nvidia.com/compute/cuda/repos/ubuntu1804/x86_64  Release.gpg [836 B]\n",
      "Get:8 http://ppa.launchpad.net/c2d4u.team/c2d4u4.0+/ubuntu bionic InRelease [15.9 kB]\n",
      "Hit:9 http://archive.ubuntu.com/ubuntu bionic InRelease\n",
      "Get:10 http://archive.ubuntu.com/ubuntu bionic-updates InRelease [88.7 kB]\n",
      "Ign:11 https://developer.download.nvidia.com/compute/cuda/repos/ubuntu1804/x86_64  Packages\n",
      "Get:11 https://developer.download.nvidia.com/compute/cuda/repos/ubuntu1804/x86_64  Packages [407 kB]\n",
      "Get:12 https://cloud.r-project.org/bin/linux/ubuntu bionic-cran40/ InRelease [3,626 B]\n",
      "Get:13 http://security.ubuntu.com/ubuntu bionic-security/universe amd64 Packages [1,354 kB]\n",
      "Get:14 http://ppa.launchpad.net/graphics-drivers/ppa/ubuntu bionic InRelease [21.3 kB]\n",
      "Get:15 http://archive.ubuntu.com/ubuntu bionic-backports InRelease [74.6 kB]\n",
      "Get:16 http://ppa.launchpad.net/c2d4u.team/c2d4u4.0+/ubuntu bionic/main Sources [1,688 kB]\n",
      "Get:17 http://archive.ubuntu.com/ubuntu bionic-updates/main amd64 Packages [2,167 kB]\n",
      "Get:18 http://security.ubuntu.com/ubuntu bionic-security/main amd64 Packages [1,750 kB]\n",
      "Get:19 http://archive.ubuntu.com/ubuntu bionic-updates/universe amd64 Packages [2,119 kB]\n",
      "Get:20 http://ppa.launchpad.net/c2d4u.team/c2d4u4.0+/ubuntu bionic/main amd64 Packages [864 kB]\n",
      "Get:21 http://ppa.launchpad.net/graphics-drivers/ppa/ubuntu bionic/main amd64 Packages [46.6 kB]\n",
      "Fetched 10.7 MB in 7s (1,605 kB/s)\n",
      "Reading package lists... Done\n"
     ]
    }
   ],
   "source": [
    "import os\n",
    "# Find the latest version of spark 2.0  from http://www-us.apache.org/dist/spark/ and enter as the spark version\n",
    "# For example:\n",
    "# spark_version = 'spark-3.0.0'\n",
    "spark_version = 'spark-3.0.1'\n",
    "os.environ['SPARK_VERSION']=spark_version\n",
    "\n",
    "# Install Spark and Java\n",
    "!apt-get update\n",
    "!apt-get install openjdk-11-jdk-headless -qq > /dev/null\n",
    "!wget -q http://www-us.apache.org/dist/spark/$SPARK_VERSION/$SPARK_VERSION-bin-hadoop2.7.tgz\n",
    "!tar xf $SPARK_VERSION-bin-hadoop2.7.tgz\n",
    "!pip install -q findspark\n",
    "\n",
    "# Set Environment Variables\n",
    "import os\n",
    "os.environ[\"JAVA_HOME\"] = \"/usr/lib/jvm/java-11-openjdk-amd64\"\n",
    "os.environ[\"SPARK_HOME\"] = f\"/content/{spark_version}-bin-hadoop2.7\"\n",
    "\n",
    "# Start a SparkSession\n",
    "import findspark\n",
    "findspark.init()"
   ]
  },
  {
   "cell_type": "code",
   "execution_count": 3,
   "metadata": {
    "id": "pThZVXCEOMTc"
   },
   "outputs": [],
   "source": [
    "from pyspark.sql import SparkSession\n",
    "spark = SparkSession.builder.appName(\"BigData-Challenge\").config(\"spark.driver.extraClassPath\",\"/content/postgresql-42.2.16.jar\").getOrCreate()"
   ]
  },
  {
   "cell_type": "code",
   "execution_count": 4,
   "metadata": {
    "colab": {
     "base_uri": "https://localhost:8080/"
    },
    "id": "nVal04YAOWOT",
    "outputId": "58bd59fa-15de-481b-95ce-b7c228804059"
   },
   "outputs": [
    {
     "name": "stdout",
     "output_type": "stream",
     "text": [
      "+-----------+-----------+--------------+----------+--------------+--------------------+--------------------+-----------+-------------+-----------+----+-----------------+--------------------+--------------------+-----------+\n",
      "|marketplace|customer_id|     review_id|product_id|product_parent|       product_title|    product_category|star_rating|helpful_votes|total_votes|vine|verified_purchase|     review_headline|         review_body|review_date|\n",
      "+-----------+-----------+--------------+----------+--------------+--------------------+--------------------+-----------+-------------+-----------+----+-----------------+--------------------+--------------------+-----------+\n",
      "|         US|   33605939| RGYFDX8QXKEIR|B007KO2MLO|     328837464|           Big Maria|Digital_Ebook_Pur...|          4|            0|          0|   N|                N|              Quirky|Elmore Leonard me...| 2013-09-09|\n",
      "|         US|   34058393|R13CBGTMNV9R8Z|B005FLODDE|     764276359|The Woman Who Was...|Digital_Ebook_Pur...|          4|            1|          2|   N|                Y|The Woman Who Was...|This book was ver...| 2013-09-09|\n",
      "|         US|   39601147| R7DRFHC0F71O0|B00EA3L35O|     535606445|Mary had A Sleepy...|Digital_Ebook_Pur...|          5|            0|          0|   N|                N|This Sleepy Sheep...|I had the opportu...| 2013-09-09|\n",
      "|         US|   17351407|R27LUKEXU3KBXQ|B00BL3JV50|     240053004|          Starstruck|Digital_Ebook_Pur...|          5|            1|          1|   N|                Y|Steamy and suspen...|What a great read...| 2013-09-09|\n",
      "|         US|   10463387|R1VXTPUYMNU687|B00CXU7U80|     931529805|The Complete Cona...|Digital_Ebook_Pur...|          5|            1|          2|   N|                N|          Barbarians|Barbarians need l...| 2013-09-09|\n",
      "|         US|   50484904|R30DKW1GJWLPZC|B004EWGS5G|     442453110|The Middle Passag...|Digital_Ebook_Pur...|          3|            1|          2|   N|                Y|            Menu....|It was okay obvio...| 2013-09-09|\n",
      "|         US|    7145636|R18DPFG2FALJI9|B00BNRJAT6|     856774152|Hide in Plain Sig...|Digital_Ebook_Pur...|          5|            0|          0|   N|                Y|        Awesome book|Very interesting ...| 2013-09-09|\n",
      "|         US|    6285538|R24D677N5WBW5Q|B007FZOXJM|       5589837|Face of Betrayal ...|Digital_Ebook_Pur...|          5|            0|          0|   N|                Y|    Face of betrayal|Really enjoyed th...| 2013-09-09|\n",
      "|         US|   10278048|R2FCJ9BQLSIOR3|B00B6AK7LU|     362701357|Final Justice (A ...|Digital_Ebook_Pur...|          5|            0|          0|   N|                Y|           Very good|I really liked th...| 2013-09-09|\n",
      "|         US|   16568972|R1R6K4MAKDWTXI|B00EVMMLU0|     342745087|Falling For My Hu...|Digital_Ebook_Pur...|          4|            0|          0|   N|                Y|Ouch! My neck is ...|Reading Callum an...| 2013-09-09|\n",
      "|         US|   26001763|R3R5DILCWM8J7B|B00E4W4984|     186117550|  Forgetting Tabitha|Digital_Ebook_Pur...|          5|            0|          0|   N|                Y|It was a wonderfu...|I really enjoyed ...| 2013-09-09|\n",
      "|         US|   48203259| RR5K72IZOCOFE|B005A1JBB8|     947574172|The Blacksmith's ...|Digital_Ebook_Pur...|          4|            0|          0|   N|                N|       Worth reading|Although not comp...| 2013-09-09|\n",
      "|         US|   45028038|R3K9PJU5GLDY3O|B0044DELIQ|     427899617|Vampire Vacation:...|Digital_Ebook_Pur...|          5|            1|          2|   N|                Y|      Very Good Romp|Enjoyed the chara...| 2013-09-09|\n",
      "|         US|   42554355|R1KTZMCDOJXAEK|B00DJQYATE|     184945574|By the Tail (Coug...|Digital_Ebook_Pur...|          5|            0|          0|   N|                N|    Love this Series|I love the Cougar...| 2013-09-09|\n",
      "|         US|   11251156|R3SBEH4Y3W9W11|B004XFYNNS|     820449163|The Kingdom (A Fa...|Digital_Ebook_Pur...|          5|            0|          0|   N|                Y|    Love this author|I really enjoy Cl...| 2013-09-09|\n",
      "|         US|   44677006|R3GB8WOHSWW2EG|B00A27Z6GO|     969993834|6 Erotic Bedtime ...|Digital_Ebook_Pur...|          3|            0|          0|   N|                Y|    Didn't finish...|I have to admit I...| 2013-09-09|\n",
      "|         US|   34645512| RDM68WMOEDNRJ|B008EGV4BQ|      36906356|The Purpose Drive...|Digital_Ebook_Pur...|          5|            0|          0|   N|                Y|Can't unread it now!|Thanx paster Rick...| 2013-09-09|\n",
      "|         US|   16137650|R3TW70YF2WZK9O|B00655U3WE|     941986263|Insurgent (Diverg...|Digital_Ebook_Pur...|          5|            0|          0|   N|                Y|Great second inst...|As with divergent...| 2013-09-09|\n",
      "|         US|    4514126|R39ESX43X1SA5T|B006NG0GXQ|     402593554|Forever His: A Ti...|Digital_Ebook_Pur...|          1|           36|         47|   N|                Y|   Completely absurd|From the time tha...| 2013-09-09|\n",
      "|         US|   44803855|R3MCA5W3BZ65OU|B008J4RPWA|     804503161|Summerset Abbey: ...|Digital_Ebook_Pur...|          5|            0|          0|   N|                Y|#2, just as good ...|I love the intera...| 2013-09-09|\n",
      "+-----------+-----------+--------------+----------+--------------+--------------------+--------------------+-----------+-------------+-----------+----+-----------------+--------------------+--------------------+-----------+\n",
      "only showing top 20 rows\n",
      "\n"
     ]
    }
   ],
   "source": [
    "from pyspark import SparkFiles\n",
    "url = \"https://s3.amazonaws.com/amazon-reviews-pds/tsv/amazon_reviews_us_Digital_Ebook_Purchase_v1_01.tsv.gz\"\n",
    "spark.sparkContext.addFile(url)\n",
    "df = spark.read.option(\"encoding\", \"UTF-8\").csv(SparkFiles.get(\"\"), sep=\"\\t\", header=True, inferSchema=True)\n",
    "df.show()"
   ]
  },
  {
   "cell_type": "code",
   "execution_count": 5,
   "metadata": {
    "colab": {
     "base_uri": "https://localhost:8080/"
    },
    "id": "pKAjjvp6OvK0",
    "outputId": "f0e38068-a87a-4230-a8ba-9c961ce768b2"
   },
   "outputs": [
    {
     "name": "stdout",
     "output_type": "stream",
     "text": [
      "+-----------+-----------+--------------+----------+--------------+--------------------+--------------------+-----------+-------------+-----------+----+-----------------+--------------------+--------------------+-----------+\n",
      "|marketplace|customer_id|     review_id|product_id|product_parent|       product_title|    product_category|star_rating|helpful_votes|total_votes|vine|verified_purchase|     review_headline|         review_body|review_date|\n",
      "+-----------+-----------+--------------+----------+--------------+--------------------+--------------------+-----------+-------------+-----------+----+-----------------+--------------------+--------------------+-----------+\n",
      "|         US|    4514126|R39ESX43X1SA5T|B006NG0GXQ|     402593554|Forever His: A Ti...|Digital_Ebook_Pur...|          1|           36|         47|   N|                Y|   Completely absurd|From the time tha...| 2013-09-09|\n",
      "|         US|   45292583|R31QRZ3JAMPBB4|B0078T6YHY|     267532424|A Lady in Defianc...|Digital_Ebook_Pur...|          1|           16|         26|   N|                Y|           No thanks|This work should ...| 2013-09-09|\n",
      "|         US|   12175486|R23FKBEXURC3SN|B00F225YK2|     953280558|Very Bad Things (...|Digital_Ebook_Pur...|          5|           28|         36|   N|                N|Holy Hotness, Bla...|Another Fave of 2...| 2013-09-09|\n",
      "|         US|   13678613| R4IAIDV5EE84W|B003WUYQG4|      58271710|Fear and Loathing...|Digital_Ebook_Pur...|          1|            8|         21|   N|                Y|Horrible - hated ...|Absolutely hated ...| 2013-09-09|\n",
      "|         US|   12897097|R26MB2DA7ROT4P|B009K7WBR4|     258778337|            The Veil|Digital_Ebook_Pur...|          1|            2|         21|   N|                Y|     Couldn't finish|Or maybe I should...| 2013-09-09|\n",
      "|         US|   28507300| RTRVYV0GWUTCK|B00EY3DN58|     694178149|there was no Jesu...|Digital_Ebook_Pur...|          5|           18|         25|   N|                Y|Great discussion ...|It is great to ha...| 2013-09-09|\n",
      "|         US|   18309091|R3QLZAI37SNOOC|B00DMA6W16|     180312277|     Love In Between|Digital_Ebook_Pur...|          2|           30|         31|   N|                Y|Elementary at best..|After reading all...| 2013-09-09|\n",
      "|         US|   16432598|R1QYZU3RS4CY4F|B00EP4SFOK|     758167516|Slow Cooking for ...|Digital_Ebook_Pur...|          5|           66|         76|   N|                N|  Just What I Needed|Being recent empt...| 2013-09-09|\n",
      "|         US|   49575885|R2UR5OLN1BU87J|B003YCPF88|     547673779|For Love of Livvy...|Digital_Ebook_Pur...|          2|           21|         23|   N|                Y|Disappointing and...|First of all, how...| 2013-09-09|\n",
      "|         US|   38584560| RYBZ6CTBOGI0H|B008J4B40Y|     743481356|Brilliant Blunder...|Digital_Ebook_Pur...|          1|            3|         84|   N|                N|No easy way to co...|Amazon's return p...| 2013-09-09|\n",
      "|         US|   49408728|R38NW44NY19VAZ|B00ENN17MU|     611474610|The Metabolic Sto...|Digital_Ebook_Pur...|          5|           30|         32|   N|                Y|Finally, somebody...|Thank goodness we...| 2013-09-09|\n",
      "|         US|   42233178| RLUFKZ223OR3L|B00EXCZXYE|     985833280|       Crimson Night|Digital_Ebook_Pur...|          2|           20|         23|   N|                N|     Pink evening...|I'm torn about th...| 2013-09-09|\n",
      "|         US|   51366449|R3H9D0U7BCE6FU|B00DUFCJ10|     515159047|1000 Yards - A Jo...|Digital_Ebook_Pur...|          4|           23|         24|   N|                Y|5 out of 6 ain't ...|Looking for a sho...| 2013-09-09|\n",
      "|         US|   32867855|R2OG3RELTTD8B3|B00F0QWBNS|     586652065|Innocent in Las V...|Digital_Ebook_Pur...|          4|           70|         73|   N|                N|           Good Book|One of my favorit...| 2013-09-09|\n",
      "|         US|   11523140|R3SERP1OF1G1MH|B004SOQ0U8|     310528186|No god but God (U...|Digital_Ebook_Pur...|          2|            3|         20|   N|                Y|       Not impressed|If you have read ...| 2013-09-09|\n",
      "|         US|   15195886| RP3K0YBQIVGXZ|B00F27B8YI|     138739715|BLACK (Hard-boile...|Digital_Ebook_Pur...|          5|           57|         63|   N|                Y|A great, new char...|Russell Blake is ...| 2013-09-09|\n",
      "|         US|   43360089|R38NKFX8MFXZF8|B00DYX2904|     641730778|The Nazi Occult W...|Digital_Ebook_Pur...|          1|            2|         21|   N|                Y|Not the best rese...|Not what I expect...| 2013-09-09|\n",
      "|         US|   17594428|R3JFHXXGSKG1CE|B00EV9LSJI|     322078779|Tears of Tess (Mo...|Digital_Ebook_Pur...|          1|           17|         30|   N|                Y|                Yawn|Wish  I could giv...| 2013-09-09|\n",
      "|         US|   25353387| RJK1WCZZAQZ8V|B008U4HH54|     832105261|The Interestings:...|Digital_Ebook_Pur...|          1|           67|         81|   N|                Y|  Most disappointing|Like the characte...| 2013-09-09|\n",
      "|         US|   50624069|R1M14DUDPWVLNM|B003D2EJ5E|     943048855|The Intelligent A...|Digital_Ebook_Pur...|          1|            6|         23|   N|                Y|            Obsolete|Not much informat...| 2013-09-09|\n",
      "+-----------+-----------+--------------+----------+--------------+--------------------+--------------------+-----------+-------------+-----------+----+-----------------+--------------------+--------------------+-----------+\n",
      "only showing top 20 rows\n",
      "\n"
     ]
    }
   ],
   "source": [
    "#filter the dataset for total_votes being greater than or equal to 20\n",
    "\n",
    "vote_count = df.filter(\"total_votes >= 20\")\n",
    "vote_count.show()"
   ]
  },
  {
   "cell_type": "code",
   "execution_count": 6,
   "metadata": {
    "colab": {
     "base_uri": "https://localhost:8080/"
    },
    "id": "SiXg60siQXhe",
    "outputId": "eb114961-b090-417a-ffd6-663bcbb5e037"
   },
   "outputs": [
    {
     "name": "stdout",
     "output_type": "stream",
     "text": [
      "+-----------+-----------+--------------+----------+--------------+--------------------+--------------------+-----------+-------------+-----------+----+-----------------+--------------------+--------------------+-----------+\n",
      "|marketplace|customer_id|     review_id|product_id|product_parent|       product_title|    product_category|star_rating|helpful_votes|total_votes|vine|verified_purchase|     review_headline|         review_body|review_date|\n",
      "+-----------+-----------+--------------+----------+--------------+--------------------+--------------------+-----------+-------------+-----------+----+-----------------+--------------------+--------------------+-----------+\n",
      "|         US|    4514126|R39ESX43X1SA5T|B006NG0GXQ|     402593554|Forever His: A Ti...|Digital_Ebook_Pur...|          1|           36|         47|   N|                Y|   Completely absurd|From the time tha...| 2013-09-09|\n",
      "|         US|   45292583|R31QRZ3JAMPBB4|B0078T6YHY|     267532424|A Lady in Defianc...|Digital_Ebook_Pur...|          1|           16|         26|   N|                Y|           No thanks|This work should ...| 2013-09-09|\n",
      "|         US|   12175486|R23FKBEXURC3SN|B00F225YK2|     953280558|Very Bad Things (...|Digital_Ebook_Pur...|          5|           28|         36|   N|                N|Holy Hotness, Bla...|Another Fave of 2...| 2013-09-09|\n",
      "|         US|   28507300| RTRVYV0GWUTCK|B00EY3DN58|     694178149|there was no Jesu...|Digital_Ebook_Pur...|          5|           18|         25|   N|                Y|Great discussion ...|It is great to ha...| 2013-09-09|\n",
      "|         US|   18309091|R3QLZAI37SNOOC|B00DMA6W16|     180312277|     Love In Between|Digital_Ebook_Pur...|          2|           30|         31|   N|                Y|Elementary at best..|After reading all...| 2013-09-09|\n",
      "|         US|   16432598|R1QYZU3RS4CY4F|B00EP4SFOK|     758167516|Slow Cooking for ...|Digital_Ebook_Pur...|          5|           66|         76|   N|                N|  Just What I Needed|Being recent empt...| 2013-09-09|\n",
      "|         US|   49575885|R2UR5OLN1BU87J|B003YCPF88|     547673779|For Love of Livvy...|Digital_Ebook_Pur...|          2|           21|         23|   N|                Y|Disappointing and...|First of all, how...| 2013-09-09|\n",
      "|         US|   49408728|R38NW44NY19VAZ|B00ENN17MU|     611474610|The Metabolic Sto...|Digital_Ebook_Pur...|          5|           30|         32|   N|                Y|Finally, somebody...|Thank goodness we...| 2013-09-09|\n",
      "|         US|   42233178| RLUFKZ223OR3L|B00EXCZXYE|     985833280|       Crimson Night|Digital_Ebook_Pur...|          2|           20|         23|   N|                N|     Pink evening...|I'm torn about th...| 2013-09-09|\n",
      "|         US|   51366449|R3H9D0U7BCE6FU|B00DUFCJ10|     515159047|1000 Yards - A Jo...|Digital_Ebook_Pur...|          4|           23|         24|   N|                Y|5 out of 6 ain't ...|Looking for a sho...| 2013-09-09|\n",
      "|         US|   32867855|R2OG3RELTTD8B3|B00F0QWBNS|     586652065|Innocent in Las V...|Digital_Ebook_Pur...|          4|           70|         73|   N|                N|           Good Book|One of my favorit...| 2013-09-09|\n",
      "|         US|   15195886| RP3K0YBQIVGXZ|B00F27B8YI|     138739715|BLACK (Hard-boile...|Digital_Ebook_Pur...|          5|           57|         63|   N|                Y|A great, new char...|Russell Blake is ...| 2013-09-09|\n",
      "|         US|   17594428|R3JFHXXGSKG1CE|B00EV9LSJI|     322078779|Tears of Tess (Mo...|Digital_Ebook_Pur...|          1|           17|         30|   N|                Y|                Yawn|Wish  I could giv...| 2013-09-09|\n",
      "|         US|   25353387| RJK1WCZZAQZ8V|B008U4HH54|     832105261|The Interestings:...|Digital_Ebook_Pur...|          1|           67|         81|   N|                Y|  Most disappointing|Like the characte...| 2013-09-09|\n",
      "|         US|   26484179|R3B5SVW0WVUHRB|B004GNFTIK|     722762728|             MALAIKA|Digital_Ebook_Pur...|          5|           23|         23|   N|                Y|                WOW!|It is really diff...| 2013-09-09|\n",
      "|         US|   44408195|R2KYTL3780UJQP|B0076BT83Q|     865937538|CARDIO SUCKS: The...|Digital_Ebook_Pur...|          1|           50|         78|   N|                Y|         Here you go|Do different card...| 2013-09-09|\n",
      "|         US|   16328207|R298OT8VO3655T|B00EVVOT1K|     181613148|The Billionaire's...|Digital_Ebook_Pur...|          5|           22|         25|   N|                Y|           Loved it!|Looked forward to...| 2013-09-09|\n",
      "|         US|   34184686|R22G9KVRZMFBGD|B00CDOQT42|     191010973|CHILDHUNT: A Myst...|Digital_Ebook_Pur...|          5|           26|         26|   N|                N|Faith Mortimer's ...|Faith Mortimer's ...| 2013-09-09|\n",
      "|         US|   48125724|R2STEO5WQ426BH|B00F1HZ9U8|     699131963|The Complete E-Bo...|Digital_Ebook_Pur...|          5|           21|         24|   N|                Y|   nothing held back|If  I were the au...| 2013-09-09|\n",
      "|         US|   26975185|R28Z87RN6YSF25|B00BAXYQQU|     810647855|Clinically Orient...|Digital_Ebook_Pur...|          1|           39|         44|   N|                Y|Kindle is not gra...|I bought all my b...| 2013-09-09|\n",
      "+-----------+-----------+--------------+----------+--------------+--------------------+--------------------+-----------+-------------+-----------+----+-----------------+--------------------+--------------------+-----------+\n",
      "only showing top 20 rows\n",
      "\n"
     ]
    }
   ],
   "source": [
    "#create a new DataFrame or table to retrieve all the rows where the number of helpful_votes divided by total_votes is equal to or greater than 50%.\n",
    "new_table = vote_count.filter(vote_count[\"helpful_votes\"]/ vote_count[\"total_votes\"]>= 0.5)\n",
    "new_table.show()"
   ]
  },
  {
   "cell_type": "code",
   "execution_count": 7,
   "metadata": {
    "colab": {
     "base_uri": "https://localhost:8080/"
    },
    "id": "GFEBCidjRQxu",
    "outputId": "d2dfb283-0e50-42d5-9fee-9330dd9143db"
   },
   "outputs": [
    {
     "name": "stdout",
     "output_type": "stream",
     "text": [
      "+-----------+-----------+---------+----------+--------------+-------------+----------------+-----------+-------------+-----------+----+-----------------+---------------+-----------+-----------+\n",
      "|marketplace|customer_id|review_id|product_id|product_parent|product_title|product_category|star_rating|helpful_votes|total_votes|vine|verified_purchase|review_headline|review_body|review_date|\n",
      "+-----------+-----------+---------+----------+--------------+-------------+----------------+-----------+-------------+-----------+----+-----------------+---------------+-----------+-----------+\n",
      "+-----------+-----------+---------+----------+--------------+-------------+----------------+-----------+-------------+-----------+----+-----------------+---------------+-----------+-----------+\n",
      "\n"
     ]
    },
    {
     "data": {
      "text/plain": [
       "0"
      ]
     },
     "execution_count": 7,
     "metadata": {
      "tags": []
     },
     "output_type": "execute_result"
    }
   ],
   "source": [
    "# Create a new DataFrame or table that retrieves all the rows where a review was written as part of the Vine program (paid), vine == 'Y'\n",
    "new_table.filter(new_table[\"vine\"] == \"Y\").show()\n",
    "new_table.filter(new_table[\"vine\"] == \"Y\").count()"
   ]
  },
  {
   "cell_type": "code",
   "execution_count": 8,
   "metadata": {
    "colab": {
     "base_uri": "https://localhost:8080/"
    },
    "id": "cTQl5tK_RlaN",
    "outputId": "fe632cdb-deee-4b26-a3a9-87177ed8d0cd"
   },
   "outputs": [
    {
     "name": "stdout",
     "output_type": "stream",
     "text": [
      "+-----------+-----------+--------------+----------+--------------+--------------------+--------------------+-----------+-------------+-----------+----+-----------------+--------------------+--------------------+-----------+\n",
      "|marketplace|customer_id|     review_id|product_id|product_parent|       product_title|    product_category|star_rating|helpful_votes|total_votes|vine|verified_purchase|     review_headline|         review_body|review_date|\n",
      "+-----------+-----------+--------------+----------+--------------+--------------------+--------------------+-----------+-------------+-----------+----+-----------------+--------------------+--------------------+-----------+\n",
      "|         US|    4514126|R39ESX43X1SA5T|B006NG0GXQ|     402593554|Forever His: A Ti...|Digital_Ebook_Pur...|          1|           36|         47|   N|                Y|   Completely absurd|From the time tha...| 2013-09-09|\n",
      "|         US|   45292583|R31QRZ3JAMPBB4|B0078T6YHY|     267532424|A Lady in Defianc...|Digital_Ebook_Pur...|          1|           16|         26|   N|                Y|           No thanks|This work should ...| 2013-09-09|\n",
      "|         US|   12175486|R23FKBEXURC3SN|B00F225YK2|     953280558|Very Bad Things (...|Digital_Ebook_Pur...|          5|           28|         36|   N|                N|Holy Hotness, Bla...|Another Fave of 2...| 2013-09-09|\n",
      "|         US|   28507300| RTRVYV0GWUTCK|B00EY3DN58|     694178149|there was no Jesu...|Digital_Ebook_Pur...|          5|           18|         25|   N|                Y|Great discussion ...|It is great to ha...| 2013-09-09|\n",
      "|         US|   18309091|R3QLZAI37SNOOC|B00DMA6W16|     180312277|     Love In Between|Digital_Ebook_Pur...|          2|           30|         31|   N|                Y|Elementary at best..|After reading all...| 2013-09-09|\n",
      "+-----------+-----------+--------------+----------+--------------+--------------------+--------------------+-----------+-------------+-----------+----+-----------------+--------------------+--------------------+-----------+\n",
      "only showing top 5 rows\n",
      "\n"
     ]
    },
    {
     "data": {
      "text/plain": [
       "65149"
      ]
     },
     "execution_count": 8,
     "metadata": {
      "tags": []
     },
     "output_type": "execute_result"
    }
   ],
   "source": [
    "#Create a new DataFrame or table that retrieves all the rows where a review was written as part of the Vine program (paid), vine == 'N'\n",
    "new_table.filter(new_table[\"vine\"] == \"N\").show(5)\n",
    "new_table.filter(new_table[\"vine\"] == \"N\").count()"
   ]
  },
  {
   "cell_type": "code",
   "execution_count": 9,
   "metadata": {
    "colab": {
     "base_uri": "https://localhost:8080/"
    },
    "id": "5yjbJtPsR-Qm",
    "outputId": "9472bb25-855b-4673-d0b1-6529280aa77e"
   },
   "outputs": [
    {
     "name": "stdout",
     "output_type": "stream",
     "text": [
      "+-----------+-----------+--------------+----------+--------------+--------------------+--------------------+-----------+-------------+-----------+----+-----------------+--------------------+--------------------+-----------+\n",
      "|marketplace|customer_id|     review_id|product_id|product_parent|       product_title|    product_category|star_rating|helpful_votes|total_votes|vine|verified_purchase|     review_headline|         review_body|review_date|\n",
      "+-----------+-----------+--------------+----------+--------------+--------------------+--------------------+-----------+-------------+-----------+----+-----------------+--------------------+--------------------+-----------+\n",
      "|         US|   12175486|R23FKBEXURC3SN|B00F225YK2|     953280558|Very Bad Things (...|Digital_Ebook_Pur...|          5|           28|         36|   N|                N|Holy Hotness, Bla...|Another Fave of 2...| 2013-09-09|\n",
      "|         US|   28507300| RTRVYV0GWUTCK|B00EY3DN58|     694178149|there was no Jesu...|Digital_Ebook_Pur...|          5|           18|         25|   N|                Y|Great discussion ...|It is great to ha...| 2013-09-09|\n",
      "|         US|   16432598|R1QYZU3RS4CY4F|B00EP4SFOK|     758167516|Slow Cooking for ...|Digital_Ebook_Pur...|          5|           66|         76|   N|                N|  Just What I Needed|Being recent empt...| 2013-09-09|\n",
      "|         US|   49408728|R38NW44NY19VAZ|B00ENN17MU|     611474610|The Metabolic Sto...|Digital_Ebook_Pur...|          5|           30|         32|   N|                Y|Finally, somebody...|Thank goodness we...| 2013-09-09|\n",
      "|         US|   15195886| RP3K0YBQIVGXZ|B00F27B8YI|     138739715|BLACK (Hard-boile...|Digital_Ebook_Pur...|          5|           57|         63|   N|                Y|A great, new char...|Russell Blake is ...| 2013-09-09|\n",
      "|         US|   26484179|R3B5SVW0WVUHRB|B004GNFTIK|     722762728|             MALAIKA|Digital_Ebook_Pur...|          5|           23|         23|   N|                Y|                WOW!|It is really diff...| 2013-09-09|\n",
      "|         US|   16328207|R298OT8VO3655T|B00EVVOT1K|     181613148|The Billionaire's...|Digital_Ebook_Pur...|          5|           22|         25|   N|                Y|           Loved it!|Looked forward to...| 2013-09-09|\n",
      "|         US|   34184686|R22G9KVRZMFBGD|B00CDOQT42|     191010973|CHILDHUNT: A Myst...|Digital_Ebook_Pur...|          5|           26|         26|   N|                N|Faith Mortimer's ...|Faith Mortimer's ...| 2013-09-09|\n",
      "|         US|   48125724|R2STEO5WQ426BH|B00F1HZ9U8|     699131963|The Complete E-Bo...|Digital_Ebook_Pur...|          5|           21|         24|   N|                Y|   nothing held back|If  I were the au...| 2013-09-09|\n",
      "|         US|   53068453| R4UL4LMRE1I8G|B0097CO9ZY|     417176069|The Ghost and The...|Digital_Ebook_Pur...|          5|           26|         29|   N|                Y|Great book at any...|This book was on ...| 2013-09-09|\n",
      "|         US|   14238766|R3IJ80HOKWJWLF|B00EY3DN58|     694178149|there was no Jesu...|Digital_Ebook_Pur...|          5|          137|        158|   N|                Y|Excellent introdu...|Even after I left...| 2013-09-09|\n",
      "|         US|   22144592|R2ARY15ILA4FST|B00F27B8YI|     138739715|BLACK (Hard-boile...|Digital_Ebook_Pur...|          5|           53|         57|   N|                Y|A Very Promising ...|I haven't been th...| 2013-09-09|\n",
      "|         US|   52938215| RQ1Z9KSOXWEJM|B00F2FF080|     684513640|SLEEPY HOLLOW: Ri...|Digital_Ebook_Pur...|          5|           56|         58|   N|                N|The next great su...|For anyone lookin...| 2013-09-09|\n",
      "|         US|   10543527|R3R2NCOUD0J5ML|B00EVVOT1K|     181613148|The Billionaire's...|Digital_Ebook_Pur...|          5|           31|         35|   N|                Y|So Worth Waiting ...|I loved Max befor...| 2013-09-09|\n",
      "|         US|   44135254| R1F3B9LEC1LU0|B00EXWBL6I|     998902248|              Titans|Digital_Ebook_Pur...|          5|           33|         36|   N|                Y|Not your average ...|Superb. The autho...| 2013-09-08|\n",
      "|         US|   48188371|R1X2M96X9PVKA7|B005TA81BG|     629680672|100 Fun Stories f...|Digital_Ebook_Pur...|          5|           28|         29|   N|                Y|Great For Babysit...|My daughter is on...| 2013-09-08|\n",
      "|         US|   24060672|R2FH1KGVLU48N3|B00EYMXM2I|     215031900|Fashionably Dead ...|Digital_Ebook_Pur...|          5|           30|         31|   N|                Y|Hot Damn! the \"Da...|The perfect and d...| 2013-09-08|\n",
      "|         US|   52572969|R2HC0OEQ8BBH84|B00EXMOFOS|     944350029|Accessories After...|Digital_Ebook_Pur...|          5|           36|         36|   N|                Y|       Magnificent!!|I would give this...| 2013-09-08|\n",
      "|         US|   12808851|R3L0081CG4OPT4|B00DB53ZMQ|      59542160| The No Contact Rule|Digital_Ebook_Pur...|          5|           22|         24|   N|                Y|Helps you get ser...|In this book, Nat...| 2013-09-08|\n",
      "|         US|   46707070|R1M5KH2R68XTK1|B007T2BW6S|     181832619|Crossfire: Hearts...|Digital_Ebook_Pur...|          5|           21|         21|   N|                Y|Another book plea...|Niki Savage does ...| 2013-09-08|\n",
      "+-----------+-----------+--------------+----------+--------------+--------------------+--------------------+-----------+-------------+-----------+----+-----------------+--------------------+--------------------+-----------+\n",
      "only showing top 20 rows\n",
      "\n"
     ]
    }
   ],
   "source": [
    "# number of five star reviews\n",
    "five_star = new_table.filter(new_table[\"star_rating\"]== 5)\n",
    "five_star.show()"
   ]
  },
  {
   "cell_type": "code",
   "execution_count": 10,
   "metadata": {
    "colab": {
     "base_uri": "https://localhost:8080/"
    },
    "id": "43g8MJlnTUih",
    "outputId": "f5ee5943-06fc-4e5c-a791-83aaa0387f01"
   },
   "outputs": [
    {
     "data": {
      "text/plain": [
       "24673"
      ]
     },
     "execution_count": 10,
     "metadata": {
      "tags": []
     },
     "output_type": "execute_result"
    }
   ],
   "source": [
    "five_star.count()"
   ]
  },
  {
   "cell_type": "code",
   "execution_count": 11,
   "metadata": {
    "colab": {
     "base_uri": "https://localhost:8080/"
    },
    "id": "27Om2HgqTWi8",
    "outputId": "2e5f1b7b-2962-4b59-bba5-b6dc742943ea"
   },
   "outputs": [
    {
     "data": {
      "text/plain": [
       "65149"
      ]
     },
     "execution_count": 11,
     "metadata": {
      "tags": []
     },
     "output_type": "execute_result"
    }
   ],
   "source": [
    "# total reviews\n",
    "new_table.count()"
   ]
  },
  {
   "cell_type": "code",
   "execution_count": 12,
   "metadata": {
    "colab": {
     "base_uri": "https://localhost:8080/"
    },
    "id": "J5MsT0mYTset",
    "outputId": "baaaa4fc-6ace-42f1-a8c4-c491df4f9300"
   },
   "outputs": [
    {
     "data": {
      "text/plain": [
       "0.37871648068274266"
      ]
     },
     "execution_count": 12,
     "metadata": {
      "tags": []
     },
     "output_type": "execute_result"
    }
   ],
   "source": [
    "#percentage of five star reviews\n",
    "five_star.count() / new_table.count()"
   ]
  },
  {
   "cell_type": "code",
   "execution_count": 13,
   "metadata": {
    "colab": {
     "base_uri": "https://localhost:8080/",
     "height": 195
    },
    "id": "E3OG9cpvUKzy",
    "outputId": "740912d0-b0dd-47a8-da70-8ec7732fc9db"
   },
   "outputs": [
    {
     "ename": "ZeroDivisionError",
     "evalue": "ignored",
     "output_type": "error",
     "traceback": [
      "\u001b[0;31m---------------------------------------------------------------------------\u001b[0m",
      "\u001b[0;31mZeroDivisionError\u001b[0m                         Traceback (most recent call last)",
      "\u001b[0;32m<ipython-input-13-39ae57a63562>\u001b[0m in \u001b[0;36m<module>\u001b[0;34m()\u001b[0m\n\u001b[1;32m      1\u001b[0m \u001b[0;31m#percentage of paid 5 star reviews\u001b[0m\u001b[0;34m\u001b[0m\u001b[0;34m\u001b[0m\u001b[0;34m\u001b[0m\u001b[0m\n\u001b[1;32m      2\u001b[0m \u001b[0;31m# The result will be an error because there are no paid reviews in this dataset being analyzed. Hence there were no paid vine reviews in this dataset\u001b[0m\u001b[0;34m\u001b[0m\u001b[0;34m\u001b[0m\u001b[0;34m\u001b[0m\u001b[0m\n\u001b[0;32m----> 3\u001b[0;31m \u001b[0mfive_star\u001b[0m\u001b[0;34m.\u001b[0m\u001b[0mfilter\u001b[0m\u001b[0;34m(\u001b[0m\u001b[0mfive_star\u001b[0m\u001b[0;34m[\u001b[0m\u001b[0;34m\"vine\"\u001b[0m\u001b[0;34m]\u001b[0m \u001b[0;34m==\u001b[0m \u001b[0;34m\"Y\"\u001b[0m\u001b[0;34m)\u001b[0m\u001b[0;34m.\u001b[0m\u001b[0mcount\u001b[0m\u001b[0;34m(\u001b[0m\u001b[0;34m)\u001b[0m\u001b[0;34m/\u001b[0m\u001b[0mnew_table\u001b[0m\u001b[0;34m.\u001b[0m\u001b[0mfilter\u001b[0m\u001b[0;34m(\u001b[0m\u001b[0mnew_table\u001b[0m\u001b[0;34m[\u001b[0m\u001b[0;34m\"vine\"\u001b[0m\u001b[0;34m]\u001b[0m \u001b[0;34m==\u001b[0m \u001b[0;34m\"Y\"\u001b[0m\u001b[0;34m)\u001b[0m\u001b[0;34m.\u001b[0m\u001b[0mcount\u001b[0m\u001b[0;34m(\u001b[0m\u001b[0;34m)\u001b[0m\u001b[0;34m\u001b[0m\u001b[0;34m\u001b[0m\u001b[0m\n\u001b[0m",
      "\u001b[0;31mZeroDivisionError\u001b[0m: division by zero"
     ]
    }
   ],
   "source": [
    "#percentage of paid 5 star reviews\n",
    "# The result will be an error because there are no paid reviews in this dataset being analyzed. Hence there were no paid vine reviews in this dataset \n",
    "five_star.filter(five_star[\"vine\"] == \"Y\").count()/new_table.filter(new_table[\"vine\"] == \"Y\").count()"
   ]
  },
  {
   "cell_type": "code",
   "execution_count": 14,
   "metadata": {
    "colab": {
     "base_uri": "https://localhost:8080/"
    },
    "id": "Lj03ko2LXJfA",
    "outputId": "3e27b979-4a1e-4d0c-f2ee-65d93907c568"
   },
   "outputs": [
    {
     "data": {
      "text/plain": [
       "0.37871648068274266"
      ]
     },
     "execution_count": 14,
     "metadata": {
      "tags": []
     },
     "output_type": "execute_result"
    }
   ],
   "source": [
    "# percentage of unpaid 5 star reviews \n",
    "five_star.filter(five_star[\"vine\"] == \"N\").count()/new_table.filter(new_table[\"vine\"] == \"N\").count()"
   ]
  },
  {
   "cell_type": "code",
   "execution_count": null,
   "metadata": {
    "id": "Tkz3sKcAYC1d"
   },
   "outputs": [],
   "source": []
  }
 ],
 "metadata": {
  "colab": {
   "authorship_tag": "ABX9TyPl9/+bNEtZCq4F01tb9pJe",
   "name": "Vine_Review_Analysis.ipynb",
   "provenance": []
  },
  "kernelspec": {
   "display_name": "Python 3",
   "language": "python",
   "name": "python3"
  },
  "language_info": {
   "codemirror_mode": {
    "name": "ipython",
    "version": 3
   },
   "file_extension": ".py",
   "mimetype": "text/x-python",
   "name": "python",
   "nbconvert_exporter": "python",
   "pygments_lexer": "ipython3",
   "version": "3.7.6"
  }
 },
 "nbformat": 4,
 "nbformat_minor": 1
}
